{
  "nbformat": 4,
  "nbformat_minor": 0,
  "metadata": {
    "colab": {
      "name": "day3.ipynb",
      "provenance": [],
      "authorship_tag": "ABX9TyO0LPRPTfWk7gv4tm/jbGD6",
      "include_colab_link": true
    },
    "kernelspec": {
      "name": "python3",
      "display_name": "Python 3"
    }
  },
  "cells": [
    {
      "cell_type": "markdown",
      "metadata": {
        "id": "view-in-github",
        "colab_type": "text"
      },
      "source": [
        "<a href=\"https://colab.research.google.com/github/Aatiya25/python100Days/blob/master/day3.ipynb\" target=\"_parent\"><img src=\"https://colab.research.google.com/assets/colab-badge.svg\" alt=\"Open In Colab\"/></a>"
      ]
    },
    {
      "cell_type": "markdown",
      "metadata": {
        "id": "vO2djJJ7XKV7"
      },
      "source": [
        "LIST:\n",
        "\n",
        "Collection of items in any order including anytype of values digits,names, anything. List uses square bracket []. Example: name=['anna','sam','nikki']\n",
        "- Accessing list element is done using thw index of the element.\n",
        "NOTE: list indexing starts with 0 instead of 1.\n",
        "example: print(name[0]) will give anna as the output.\n",
        "\n",
        "Adding, Removing or Changing Element in the list:\n",
        "-To add an element use .append() : name.append('pam')\n",
        "-To insert an element at a defined place use .insert(): name.insert(1,'sandy')\n",
        "- To remove element from list use del: del name[0]\n",
        "-Using pop to remove Item(explained in the next cell)\n",
        "-TO modify an element in the list, just change the index value: name[0]='Ira'\n",
        "\n",
        "To organise the list use sort() method.\n",
        "name.sort(): This wil sort in albhabettical order.\n",
        "name.sort(reverse=True): Reverse alphabetical order.\n",
        "\n",
        "Using the above method, the list is stored in the order we use. If you want to present the list temporarily in sorted way then use sorted() function: sorted(name)\n",
        "\n",
        "This will not affect the original list.\n",
        "\n",
        "- To print list in reverse order: name.reverse()\n",
        "-Find the length of list: len(name)\n"
      ]
    },
    {
      "cell_type": "code",
      "metadata": {
        "id": "t8V1N0ktQZBa",
        "outputId": "871c5c3c-28fc-4b0d-f5ae-1dbe6940c7af",
        "colab": {
          "base_uri": "https://localhost:8080/"
        }
      },
      "source": [
        "\n",
        "\n",
        "\n",
        "'''Pop Method\n",
        "This method removes the last itwm entered in the list but it allows you to work with the item even after removing it. \n",
        "Example:'''\n",
        "\n",
        "car=['bmw', 'minicooper', 'merc']\n",
        "print(car)"
      ],
      "execution_count": 12,
      "outputs": [
        {
          "output_type": "stream",
          "text": [
            "['bmw', 'minicooper', 'merc']\n"
          ],
          "name": "stdout"
        }
      ]
    },
    {
      "cell_type": "code",
      "metadata": {
        "id": "A-FuaGSrQ-Qw",
        "outputId": "1e63a4c4-173c-4456-9259-aecfd873d0c3",
        "colab": {
          "base_uri": "https://localhost:8080/"
        }
      },
      "source": [
        "popped_car=car.pop()\n",
        "print(popped_car)"
      ],
      "execution_count": 9,
      "outputs": [
        {
          "output_type": "stream",
          "text": [
            "merc\n"
          ],
          "name": "stdout"
        }
      ]
    },
    {
      "cell_type": "code",
      "metadata": {
        "id": "kF2kuoz_RGkS",
        "outputId": "777afacb-7979-4954-cbb9-655e497af424",
        "colab": {
          "base_uri": "https://localhost:8080/"
        }
      },
      "source": [
        "print(car)"
      ],
      "execution_count": 10,
      "outputs": [
        {
          "output_type": "stream",
          "text": [
            "['bmw', 'minicooper']\n"
          ],
          "name": "stdout"
        }
      ]
    },
    {
      "cell_type": "code",
      "metadata": {
        "id": "mcceGSGXRKqc",
        "outputId": "5e46ac06-6827-4882-f7c0-964539f3a72c",
        "colab": {
          "base_uri": "https://localhost:8080/"
        }
      },
      "source": [
        "''''Why POP() is useful?\n",
        "Let's understand by the above example. If we want to find the last owned car. We will use pop to find out based on the cronological order'''\n",
        "last_owned_car=car.pop()\n",
        "print(\"Last owned car: \"+ last_owned_car.title())"
      ],
      "execution_count": 13,
      "outputs": [
        {
          "output_type": "stream",
          "text": [
            "Last owned car: Merc\n"
          ],
          "name": "stdout"
        }
      ]
    },
    {
      "cell_type": "markdown",
      "metadata": {
        "id": "2fE57ABKfPgq"
      },
      "source": [
        "TUPLES\n",
        "List that once created and cann't be updated is called Tuples. Tuples are immutable list that can't change throughout the code. Tuples look like list but are represented with parenthesis (). "
      ]
    },
    {
      "cell_type": "code",
      "metadata": {
        "id": "au8RP_WaYcHd",
        "outputId": "6636196e-9ce3-44aa-cce2-f401f82eeb53",
        "colab": {
          "base_uri": "https://localhost:8080/"
        }
      },
      "source": [
        "# Defining Tuple\n",
        "rectangle_dimension=(200,50)\n",
        "print(rectangle_dimension[0])"
      ],
      "execution_count": 1,
      "outputs": [
        {
          "output_type": "stream",
          "text": [
            "200\n"
          ],
          "name": "stdout"
        }
      ]
    },
    {
      "cell_type": "code",
      "metadata": {
        "id": "M6ap4z-YYlHf"
      },
      "source": [
        ""
      ],
      "execution_count": null,
      "outputs": []
    }
  ]
}