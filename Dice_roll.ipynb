{
 "cells": [
  {
   "cell_type": "code",
   "execution_count": 6,
   "metadata": {},
   "outputs": [
    {
     "name": "stdout",
     "output_type": "stream",
     "text": [
      "Please Roll the dice y/n g\n",
      "Invalid input try again:g\n",
      "Invalid input try again:h\n",
      "Invalid input try again:j\n",
      "Invalid input try again:k\n",
      "Invalid input try again:l\n",
      "Invalid input try again:a\n",
      "Invalid input try again:s\n",
      "Invalid input try again:1\n",
      "Invalid input try again:2\n",
      "Invalid input try again:3\n",
      "Invalid input try again:4\n",
      "Invalid input try again:5\n",
      "Invalid input try again:y\n",
      "4\n",
      "roll Again y/n y\n",
      "6\n",
      "roll Again y/n y\n",
      "1\n",
      "roll Again y/n y\n",
      "2\n",
      "roll Again y/n y\n",
      "5\n",
      "roll Again y/n y\n",
      "1\n",
      "roll Again y/n n\n",
      "thanks for playing!\n"
     ]
    }
   ],
   "source": [
    "import random\n",
    "def roll():\n",
    "    min =1\n",
    "    max=6\n",
    "    move=input(\"Please Roll the dice y/n \")\n",
    "    while (move.lower() not in('y','n')):\n",
    "        move=input(\"Invalid input try again:\")\n",
    "    while(move.lower()=='y'):\n",
    "        n=random.randint(min,max)\n",
    "        print(n)\n",
    "        move=input(\"roll Again y/n \")\n",
    "    if(move.lower()=='n'):\n",
    "        print(\"Thanks for playing!\")\n",
    "   \n",
    "roll()\n",
    "\n",
    "    "
   ]
  },
  {
   "cell_type": "code",
   "execution_count": null,
   "metadata": {},
   "outputs": [],
   "source": [
    "#DAY3 NNUMBER_GUESSING\n"
   ]
  },
  {
   "cell_type": "code",
   "execution_count": null,
   "metadata": {},
   "outputs": [],
   "source": []
  }
 ],
 "metadata": {
  "kernelspec": {
   "display_name": "Python 3",
   "language": "python",
   "name": "python3"
  },
  "language_info": {
   "codemirror_mode": {
    "name": "ipython",
    "version": 3
   },
   "file_extension": ".py",
   "mimetype": "text/x-python",
   "name": "python",
   "nbconvert_exporter": "python",
   "pygments_lexer": "ipython3",
   "version": "3.7.4"
  }
 },
 "nbformat": 4,
 "nbformat_minor": 2
}
